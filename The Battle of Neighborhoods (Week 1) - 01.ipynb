{
    "nbformat_minor": 1, 
    "cells": [
        {
            "source": "# The Battle of the Neighborhoods - Week 1", 
            "cell_type": "markdown", 
            "metadata": {
                "collapsed": true
            }
        }, 
        {
            "source": "###  Part - 1 - Introduction/Business Problem", 
            "cell_type": "markdown", 
            "metadata": {}
        }, 
        {
            "source": "#### Background of Problem", 
            "cell_type": "markdown", 
            "metadata": {}
        }, 
        {
            "source": "The central business district of Toronto, Ontario is Downtown Toronto & is located entirely within Old Toronto district. It covers approximately 14 sq kms in area, whereas to its north, south, east & west are bounded by Bloor Street, Lake Ontario, the Don Valley, & Bathurst Street respectively. The Government of Ontario and the City of Toronto government are also located here.\n\nAfter Newyork City & Chicago, Canada's Downtown Toronto stands on third position in North America because of most skyscrapers; with height more than 200 meters. This area also comprises of largest business centres along with largest skyscrapers and form's Toronto's skyline.\n\nBecause of being largest business centre and having major government offices located in this area, this area offers a lot of various business opportunities to new entrepreneurs.", 
            "cell_type": "markdown", 
            "metadata": {}
        }, 
        {
            "source": "#### Description of Problem", 
            "cell_type": "markdown", 
            "metadata": {}
        }, 
        {
            "source": "As a Data Scientist I have been hired by my client, who runs a successful Asian cuisine restaurant in Asia, to investigate how many restaurants offer Asian cuisine in Downtown Toronoto, so that he can expand its operations in Europe. Because of the diverse population of Canada as a lot of people migrate there, my client aims to introduce Asian flavour in that area with a hope to be successful.", 
            "cell_type": "markdown", 
            "metadata": {}
        }, 
        {
            "source": "#### Target Audience", 
            "cell_type": "markdown", 
            "metadata": {}
        }, 
        {
            "source": "As a result of a lot migration to Canada from various parts of the world,the diversity of Canada has resulted in a very high multicultural environment.In the search for an high-end Asian-inclined eat-outs, there seems to have high shortage.", 
            "cell_type": "markdown", 
            "metadata": {}
        }, 
        {
            "source": "###  Part - 2 - Data description", 
            "cell_type": "markdown", 
            "metadata": {}
        }, 
        {
            "source": "### Data\nDown Town, Toronto will be analyzed in project.\nWikipedia and Foursquare will be used to pull data for analysis", 
            "cell_type": "markdown", 
            "metadata": {}
        }
    ], 
    "metadata": {
        "kernelspec": {
            "display_name": "Python 3.5", 
            "name": "python3", 
            "language": "python"
        }, 
        "language_info": {
            "mimetype": "text/x-python", 
            "nbconvert_exporter": "python", 
            "version": "3.5.5", 
            "name": "python", 
            "file_extension": ".py", 
            "pygments_lexer": "ipython3", 
            "codemirror_mode": {
                "version": 3, 
                "name": "ipython"
            }
        }
    }, 
    "nbformat": 4
}